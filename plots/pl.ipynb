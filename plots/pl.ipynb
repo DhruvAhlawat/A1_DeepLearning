{
 "cells": [
  {
   "cell_type": "code",
   "execution_count": 64,
   "metadata": {},
   "outputs": [],
   "source": [
    "import os\n",
    "import sys\n",
    "import glob\n",
    "import random"
   ]
  },
  {
   "cell_type": "code",
   "execution_count": 2,
   "metadata": {},
   "outputs": [
    {
     "data": {
      "text/plain": [
       "1"
      ]
     },
     "execution_count": 2,
     "metadata": {},
     "output_type": "execute_result"
    }
   ],
   "source": [
    "os.system('pwd')"
   ]
  },
  {
   "cell_type": "code",
   "execution_count": 36,
   "metadata": {},
   "outputs": [],
   "source": [
    "s = '''hello{class} world'''"
   ]
  },
  {
   "cell_type": "code",
   "execution_count": 37,
   "metadata": {},
   "outputs": [
    {
     "data": {
      "text/plain": [
       "'hello10 world'"
      ]
     },
     "execution_count": 37,
     "metadata": {},
     "output_type": "execute_result"
    }
   ],
   "source": [
    "s.format(10)"
   ]
  },
  {
   "cell_type": "code",
   "execution_count": 79,
   "metadata": {},
   "outputs": [],
   "source": [
    "s = \"\"\"\\\\subsection{class}\n",
    "\\\\begin{figure}[!h]       \n",
    "    \\\\mbox{\\\\includegraphics[width=0.30\\\\linewidth]{n1}}\\\\hfill\n",
    "    \\\\mbox{\\\\includegraphics[width=0.30\\\\linewidth]{n2}}\\\\hfill\n",
    "    \\\\mbox{\\\\includegraphics[width=0.30\\\\linewidth]{n3}}\\\\hfill\n",
    "    \\\\\\\\\n",
    "    \\\\\\\\\n",
    "    \\\\mbox{\\\\includegraphics[width=0.30\\\\linewidth]{n4}}\\\\hfill\n",
    "    \\\\mbox{\\\\includegraphics[width=0.30\\\\linewidth]{n0}}\\\\hfill\n",
    "    \\\\caption{Correct classifications of class}\n",
    "\\\\end{figure}\n",
    "\\\\begin{figure}[!h]       \n",
    "    \\\\mbox{\\\\includegraphics[width=0.30\\\\linewidth]{n6}}\\\\hfill\n",
    "    \\\\mbox{\\\\includegraphics[width=0.30\\\\linewidth]{n7}}\\\\hfill\n",
    "    \\\\mbox{\\\\includegraphics[width=0.30\\\\linewidth]{n8}}\\\\hfill\n",
    "    \\\\\\\\\n",
    "    \\\\\\\\\n",
    "    \\\\mbox{\\\\includegraphics[width=0.30\\\\linewidth]{n9}}\\\\hfill\n",
    "    \\\\mbox{\\\\includegraphics[width=0.30\\\\linewidth]{n5}}\\\\hfill\n",
    "    \\\\caption{Incorrect classifications of class}\n",
    "\\\\end{figure}\n",
    "\"\"\"\n"
   ]
  },
  {
   "cell_type": "code",
   "execution_count": 86,
   "metadata": {},
   "outputs": [
    {
     "name": "stdout",
     "output_type": "stream",
     "text": [
      "\\subsection{White-Breasted-Waterhen}\n",
      "\\begin{figure}[!h]       \n",
      "    \\mbox{\\includegraphics[width=0.30\\linewidth]{Correct_White-Breasted-Waterhen_2.jpg}}\\hfill\n",
      "    \\mbox{\\includegraphics[width=0.30\\linewidth]{Correct_White-Breasted-Waterhen_1.jpg}}\\hfill\n",
      "    \\mbox{\\includegraphics[width=0.30\\linewidth]{Correct_White-Breasted-Waterhen_3.jpg}}\\hfill\n",
      "    \\\\\n",
      "    \\\\\n",
      "    \\mbox{\\includegraphics[width=0.30\\linewidth]{Correct_White-Breasted-Waterhen_4.jpg}}\\hfill\n",
      "    \\mbox{\\includegraphics[width=0.30\\linewidth]{Correct_White-Breasted-Waterhen_0.jpg}}\\hfill\n",
      "    \\caption{Correct White-Breasted-Waterhenifications of White-Breasted-Waterhen}\n",
      "\\end{figure}\n",
      "\\begin{figure}[!h]       \n",
      "    \\mbox{\\includegraphics[width=0.30\\linewidth]{Incorrect_White-Breasted-Waterhen_4.jpg}}\\hfill\n",
      "    \\mbox{\\includegraphics[width=0.30\\linewidth]{Incorrect_White-Breasted-Waterhen_1.jpg}}\\hfill\n",
      "    \\mbox{\\includegraphics[width=0.30\\linewidth]{Incorrect_White-Breasted-Waterhen_0.jpg}}\\hfill\n",
      "    \\\\\n",
      "    \\\\\n",
      "    \\mbox{\\includegraphics[width=0.30\\linewidth]{Incorrect_White-Breasted-Waterhen_2.jpg}}\\hfill\n",
      "    \\mbox{\\includegraphics[width=0.30\\linewidth]{Incorrect_White-Breasted-Waterhen_3.jpg}}\\hfill\n",
      "    \\caption{Incorrect White-Breasted-Waterhenifications of White-Breasted-Waterhen}\n",
      "\\end{figure}\n",
      "\n"
     ]
    }
   ],
   "source": [
    "folder = r'D:\\OneDrive - IIT Delhi\\Pictures\\_COL775\\A1\\GradCam\\White-Breasted-Waterhen';\n",
    "files = glob.glob(folder + '/*[0-5].jpg');\n",
    "correct = [];\n",
    "incorrect = [];\n",
    "class_name = os.path.basename(folder);\n",
    "for file in files:\n",
    "    file = os.path.basename(file)\n",
    "    try:\n",
    "        if(file[:7] == 'Correct'):\n",
    "            correct.append(file)\n",
    "    except:\n",
    "        pass\n",
    "    try:\n",
    "        if(file[:9] == 'Incorrect'):\n",
    "            incorrect.append(file)\n",
    "    except:\n",
    "        pass\n",
    "random.shuffle(correct)\n",
    "random.shuffle(incorrect)\n",
    "y = s.replace('class', class_name)\n",
    "for i in range(5):\n",
    "    try:\n",
    "        y = y.replace('n' + str(i), correct[i]);\n",
    "    except Exception as e:\n",
    "        pass;\n",
    "    try:\n",
    "        y = y.replace('n' + str(i+5), incorrect[i]);    \n",
    "    except Exception as e:\n",
    "        pass;\n",
    "print(y)"
   ]
  },
  {
   "cell_type": "code",
   "execution_count": 76,
   "metadata": {},
   "outputs": [
    {
     "name": "stdout",
     "output_type": "stream",
     "text": [
      "5\n"
     ]
    }
   ],
   "source": [
    "print(len(correct))"
   ]
  },
  {
   "cell_type": "code",
   "execution_count": 10,
   "metadata": {},
   "outputs": [
    {
     "name": "stdout",
     "output_type": "stream",
     "text": [
      "[]\n"
     ]
    }
   ],
   "source": []
  },
  {
   "cell_type": "code",
   "execution_count": null,
   "metadata": {},
   "outputs": [],
   "source": []
  }
 ],
 "metadata": {
  "kernelspec": {
   "display_name": "deeplearning",
   "language": "python",
   "name": "python3"
  },
  "language_info": {
   "codemirror_mode": {
    "name": "ipython",
    "version": 3
   },
   "file_extension": ".py",
   "mimetype": "text/x-python",
   "name": "python",
   "nbconvert_exporter": "python",
   "pygments_lexer": "ipython3",
   "version": "3.12.2"
  }
 },
 "nbformat": 4,
 "nbformat_minor": 2
}
